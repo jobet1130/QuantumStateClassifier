{
 "cells": [
  {
   "cell_type": "code",
   "execution_count": 8,
   "id": "60494977",
   "metadata": {},
   "outputs": [],
   "source": [
    "import pandas as pd\n",
    "import numpy as np\n",
    "from sklearn.preprocessing import StandardScaler, MinMaxScaler\n",
    "from sklearn.decomposition import PCA\n",
    "import os\n",
    "import glob"
   ]
  },
  {
   "cell_type": "code",
   "execution_count": 9,
   "id": "823838fa",
   "metadata": {},
   "outputs": [],
   "source": [
    "def load_dataset(path: str) -> pd.DataFrame:\n",
    "    return pd.read_csv(path)"
   ]
  },
  {
   "cell_type": "code",
   "execution_count": 10,
   "id": "13c21c99",
   "metadata": {},
   "outputs": [],
   "source": [
    "def handle_missing_values(df: pd.DataFrame, strategy: str = 'mean') -> pd.DataFrame:\n",
    "    if strategy == 'mean':\n",
    "        return df.fillna(df.mean())\n",
    "    if strategy == 'median':\n",
    "        return df.fillna(df.median())\n",
    "    if strategy == 'drop':\n",
    "        return df.dropna()\n",
    "    return df"
   ]
  },
  {
   "cell_type": "code",
   "execution_count": 11,
   "id": "8a8d4fda",
   "metadata": {},
   "outputs": [],
   "source": [
    "def scale_features(df: pd.DataFrame, method: str = 'standard') -> pd.DataFrame:\n",
    "    scaler = StandardScaler() if method == 'standard' else MinMaxScaler()\n",
    "    numeric_cols = df.select_dtypes(include=[np.number]).columns\n",
    "    df[numeric_cols] = scaler.fit_transform(df[numeric_cols])\n",
    "    return df"
   ]
  },
  {
   "cell_type": "code",
   "execution_count": 12,
   "id": "fabb0fed",
   "metadata": {},
   "outputs": [],
   "source": [
    "def apply_pca(df: pd.DataFrame, n_components: int = 2) -> pd.DataFrame:\n",
    "    numeric_cols = df.select_dtypes(include=[np.number]).columns\n",
    "    max_components = min(len(df), len(numeric_cols))\n",
    "    \n",
    "    if max_components < 1:\n",
    "        return df\n",
    "\n",
    "    n_components = min(n_components, max_components)\n",
    "\n",
    "    pca = PCA(n_components=n_components)\n",
    "    components = pca.fit_transform(df[numeric_cols])\n",
    "\n",
    "    for i in range(n_components):\n",
    "        df[f'PC{i+1}'] = components[:, i]\n",
    "\n",
    "    return df\n"
   ]
  },
  {
   "cell_type": "code",
   "execution_count": 13,
   "id": "334f8a4c",
   "metadata": {},
   "outputs": [],
   "source": [
    "def preprocess_file(input_path: str, output_path: str, n_pca_components: int = 2, scaling_method: str = 'standard', missing_strategy: str = 'mean') -> None:\n",
    "    df = load_dataset(input_path)\n",
    "    df = handle_missing_values(df, missing_strategy)\n",
    "    df = scale_features(df, scaling_method)\n",
    "    df = apply_pca(df, n_pca_components)\n",
    "    os.makedirs(os.path.dirname(output_path), exist_ok=True)\n",
    "    df.to_csv(output_path, index=False)"
   ]
  },
  {
   "cell_type": "code",
   "execution_count": 14,
   "id": "e4f9c9eb",
   "metadata": {},
   "outputs": [
    {
     "name": "stdout",
     "output_type": "stream",
     "text": [
      "✅ All files processed and saved in ../data/processed\n"
     ]
    }
   ],
   "source": [
    "raw_folder = \"../data/raw\"\n",
    "processed_folder = \"../data/processed\"\n",
    "file_paths = glob.glob(f\"{raw_folder}/*.csv\")\n",
    "\n",
    "for file_path in file_paths:\n",
    "    filename = os.path.basename(file_path)\n",
    "    output_path = os.path.join(processed_folder, filename)\n",
    "    preprocess_file(file_path, output_path, n_pca_components=3, scaling_method='standard', missing_strategy='mean')\n",
    "\n",
    "print(f\"✅ All files processed and saved in {processed_folder}\")\n"
   ]
  }
 ],
 "metadata": {
  "kernelspec": {
   "display_name": "quantum-ml",
   "language": "python",
   "name": "python3"
  },
  "language_info": {
   "codemirror_mode": {
    "name": "ipython",
    "version": 3
   },
   "file_extension": ".py",
   "mimetype": "text/x-python",
   "name": "python",
   "nbconvert_exporter": "python",
   "pygments_lexer": "ipython3",
   "version": "3.10.18"
  }
 },
 "nbformat": 4,
 "nbformat_minor": 5
}
